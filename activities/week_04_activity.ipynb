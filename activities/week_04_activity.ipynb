{
 "cells": [
  {
   "attachments": {},
   "cell_type": "markdown",
   "metadata": {},
   "source": [
    "# Unit 4 Live Session - Breakout Activities\n",
    "\n",
    "\n",
    "###  1. Psudocoding"
   ]
  },
  {
   "attachments": {},
   "cell_type": "markdown",
   "metadata": {},
   "source": [
    "## Activity 1 - Psudocoding\n",
    "\n",
    "In class, your instructor walked you through how to psudocode the first part of the Palindrome problem from homework.  For reference, that problem asked you:\n",
    "\n",
    "Pascal's triangle is a triangle of numbers that is computed as follows.  The first row contains a 1.  Each row after that begins and ends with a 1, and every other number is the sum of the two numbers above it.  The first six rows of Pascal's triangle are shown below.\n",
    "```\n",
    "      1\n",
    "     1 1\n",
    "    1 2 1\n",
    "  1  3 3  1\n",
    " 1 4  6  4 1\n",
    "1 5 10 10 5 1\n",
    "```\n",
    "Write a script to compute and print the *n*th row of Pascal's triangle. Do not spend time trying to print the entire triangle in the format above (it is for illustrative purposes only).\n",
    "\n"
   ]
  },
  {
   "attachments": {},
   "cell_type": "markdown",
   "metadata": {},
   "source": [
    "#### Question 1-1:\n",
    "Below is the Psudocode started in class.  This code, for any row \"last_row\", can calculate the next row of Pascal's triangle.  Please update the psudocode to explain how to print the *n*th of Pascal's triangle, instead of just getting the \"next\" row."
   ]
  },
  {
   "cell_type": "code",
   "execution_count": null,
   "metadata": {
    "collapsed": true
   },
   "outputs": [],
   "source": [
    "## We will use two arrays, one for the \"last row\" one for \"current row\"\n",
    "## Insight: Each pass through the loop, we can set \"current row\" to \"last row\". Then we can build a new \"current row\".\n",
    "## We first initialize the two arrays to [1] and [1,1] for rows 1 and 2\n",
    "## We then loop through an algorythem as follows:\n",
    "\n",
    "## 1. Replace \"last_row\" with the contents of \"current_row\" so we can create a new \"current_row\".\n",
    "## 2. Clear out \"current_row\" to have nothing in it.\n",
    "## 3. The 0 digit in current_row is 1\n",
    "## 4. Start a \"While\" loop that iterates until len(current_row) == len(last_row)\n",
    "    ## 5. Use a counter (n) that starts at 1 and increments by 1 each time through the loop\n",
    "    ## 6. Use \"append\" to set current_row[n] = last_row[n] + last_row[n-1]\n",
    "## 7. After exiting the loop, add the final \"1\"\n",
    "\n",
    "## Now wait, what is the problem? This only builds one row. Go into breakouts and, starting with\n",
    "    ## this psudocode, update the psudocode to find the \"N\"th line, as required in the problem. "
   ]
  },
  {
   "attachments": {},
   "cell_type": "markdown",
   "metadata": {},
   "source": [
    "#### Question 1-2:\n",
    "Below is an implementation of the psudocode explained in class. Please update this code to include the steps you added above.  The code below does not have psudocode as comments for clarity, but feel free to use your psudocode as the comments in your solution.   "
   ]
  },
  {
   "cell_type": "code",
   "execution_count": null,
   "metadata": {},
   "outputs": [],
   "source": [
    "# Initalize\n",
    "last_row = [1, 1]\n",
    "current_row = []\n",
    "\n",
    "# First digit of any row is 1\n",
    "current_row.append(1)\n",
    "n = 1\n",
    "# Calculate values of next row\n",
    "while len(current_row) < len(last_row):\n",
    "    current_row.append(last_row[n] + last_row[n-1])\n",
    "    n += 1\n",
    "# Last digit of any row is 1\n",
    "current_row.append(1)\n",
    "\n",
    "print(last_row)\n",
    "print(current_row)"
   ]
  },
  {
   "attachments": {},
   "cell_type": "markdown",
   "metadata": {
    "collapsed": true
   },
   "source": [
    "### Activity 2 - \"For\" vs. \"While\" loops\n",
    "\n",
    "#### Question 2-1: \"For\" Loop\n",
    "The list \"basket\" below is made up of fruit and pokemon.  Using a **for** loop, please iterate through the list and print, once per object, if it is a pokemon or a fruit.\n",
    "\n",
    "Sample output:\n",
    ">`apple is a fruit!\n",
    "jigglypuff is a pokemon!\n",
    "grape is a fruit!\n",
    "pineapple is a fruit!\n",
    "pikachu is a pokemon!`"
   ]
  },
  {
   "cell_type": "code",
   "execution_count": 2,
   "metadata": {
    "collapsed": true
   },
   "outputs": [],
   "source": [
    "basket = ['apple', 'jigglypuff', 'grape', 'pineapple', 'pikachu']\n",
    "fruit = ['apple', 'grape', 'pineapple']\n",
    "pokemon = ['jigglypuff', 'pikachu']"
   ]
  },
  {
   "cell_type": "code",
   "execution_count": 4,
   "metadata": {},
   "outputs": [
    {
     "name": "stdout",
     "output_type": "stream",
     "text": [
      "apple is a fruit!\n",
      "jigglypuff is a pokemon!\n",
      "grape is a fruit!\n",
      "pineapple is a fruit!\n",
      "pikachu is a pokemon!\n"
     ]
    }
   ],
   "source": [
    "for item in basket:\n",
    "    if item in fruit:\n",
    "        print(item,\"is a fruit!\")\n",
    "    if item in pokemon:\n",
    "        print(item,\"is a pokemon!\")"
   ]
  },
  {
   "attachments": {},
   "cell_type": "markdown",
   "metadata": {},
   "source": [
    "#### Question 2-2: \"While\" Loop\n",
    "\n",
    "Now, please try to implement the same program using a **while** loop.  Again, your output should be:\n",
    "\n",
    "Sample output:\n",
    ">`apple is a fruit!\n",
    "jigglypuff is a pokemon!\n",
    "grape is a fruit!\n",
    "pineapple is a fruit!\n",
    "pikachu is a pokemon!`"
   ]
  },
  {
   "cell_type": "code",
   "execution_count": 12,
   "metadata": {
    "collapsed": true
   },
   "outputs": [
    {
     "name": "stdout",
     "output_type": "stream",
     "text": [
      "pikachu is a pokemon!\n",
      "pineapple is a fruit!\n",
      "grape is a fruit!\n",
      "jigglypuff is a pokemon!\n",
      "apple is a fruit!\n"
     ]
    }
   ],
   "source": [
    "basket = ['apple', 'jigglypuff', 'grape', 'pineapple', 'pikachu']\n",
    "fruit = ['apple', 'grape', 'pineapple']\n",
    "pokemon = ['jigglypuff', 'pikachu']\n",
    "\n",
    "while len(basket) > 0:\n",
    "    item = basket.pop()\n",
    "    if item in fruit:\n",
    "        print(item,\"is a fruit!\")\n",
    "    if item in pokemon:\n",
    "        print(item,\"is a pokemon!\")"
   ]
  },
  {
   "attachments": {},
   "cell_type": "markdown",
   "metadata": {},
   "source": [
    "#### Question 2-3\n",
    "In your own words, when is it better to use a \"for\" loop than a \"while\" loop?  When is it better to use a \"while\" loop?"
   ]
  },
  {
   "attachments": {},
   "cell_type": "markdown",
   "metadata": {},
   "source": [
    "[Put answer here]"
   ]
  },
  {
   "attachments": {},
   "cell_type": "markdown",
   "metadata": {},
   "source": [
    "### Activity 3 - Comprehensions"
   ]
  },
  {
   "attachments": {},
   "cell_type": "markdown",
   "metadata": {},
   "source": [
    "**Question 3-1**\n",
    "\n",
    "Build list comprehensions to do the following:\n",
    "\n",
    "1. Create a list 'a' that multiplies each element of the sample_list by itself (x^2).\n",
    "2. Create a list 'b' that multiplies each element of the sample_list by itself, if the number is less than or equal to 4.\n",
    "2. Create a list 'b2' that multiplies each element of the sample_list by itself, if the number is less than or equal to 4 ELSE leave it the same.\n",
    "3. Create a list 'c' of tuples (x^2, x^3) for each element of the sample_list.\n",
    "4. Create a list 'd' that extracts the second element from each tuple in list 'c'.\n",
    "\n",
    "### expected output\n",
    "\n",
    "[1, 4, 9, 16, 25, 36]\n",
    "\n",
    "[1, 4, 9, 16]\n",
    "\n",
    "[1, 4, 9, 16, 5, 6]\n",
    "\n",
    "[(1, 1), (4, 8), (9, 27), (16, 64), (25, 125), (36, 216)]\n",
    "\n",
    "[1, 8, 27, 64, 125, 216]\n"
   ]
  },
  {
   "cell_type": "code",
   "execution_count": 6,
   "metadata": {
    "collapsed": true
   },
   "outputs": [
    {
     "name": "stdout",
     "output_type": "stream",
     "text": [
      "[1, 4, 9, 16, 25, 36]\n",
      "[1, 4, 9, 16]\n",
      "[1, 4, 9, 16, 5, 6]\n",
      "[(1, 1), (4, 8), (9, 27), (16, 64), (25, 125), (36, 216)]\n",
      "[1, 8, 27, 64, 125, 216]\n"
     ]
    }
   ],
   "source": [
    "sample_list = [1, 2, 3, 4, 5, 6]\n",
    "\n",
    "a = [i**2 for i in sample_list]\n",
    "b = [i*i for i in sample_list if i <= 4]\n",
    "b2 = [i*i if i<=4 else i for i in sample_list]\n",
    "c = [(i**2,i**3) for i in sample_list]\n",
    "d = [i[1] for i in c]\n",
    "\n",
    "print(a)\n",
    "print(b)\n",
    "print(b2)\n",
    "print(c)\n",
    "print(d)"
   ]
  },
  {
   "attachments": {},
   "cell_type": "markdown",
   "metadata": {
    "collapsed": true
   },
   "source": [
    "**Question 3-2** \n",
    "\n",
    "Load in the data that is available in this repository! Here's how to get started with loading in the data.\n",
    "\n",
    "```python\n",
    "import json\n",
    "\n",
    "with open(\"data.json\") as f:\n",
    "    temp = json.load(f)\n",
    "    data = temp['data']\n",
    "    cols = temp['cols']\n",
    "```"
   ]
  },
  {
   "attachments": {},
   "cell_type": "markdown",
   "metadata": {},
   "source": [
    "- Write a comprehension that will extract out all the names and removes duplicates in doing so. The resulting data structure may be a list or a set.\n"
   ]
  },
  {
   "cell_type": "code",
   "execution_count": 7,
   "metadata": {
    "collapsed": true
   },
   "outputs": [
    {
     "name": "stdout",
     "output_type": "stream",
     "text": [
      "{'Drew', 'Harlan', 'Logan', 'Yoshio', 'Macaulay', 'Joseph', 'Philip', 'Ralph', 'Vance', 'Drake', 'Ferdinand', 'Marshall', 'Talon', 'Cyrus', 'Dalton', 'Tobias', 'Armando', 'Dillon', 'Clark', 'Quentin', 'Steven', 'Clayton', 'Norman', 'Lionel', 'Christian', 'Benjamin', 'Galvin', 'Beck', 'Bert', 'Carter', 'Lester', 'Brody', 'Reed', 'Giacomo', 'Burton', 'Brian', 'Lane', 'Joshua', 'Noah', 'Arsenio', 'Austin', 'Dylan', 'Kenyon', 'Davis', 'Neil', 'Devin', 'Keith', 'James', 'Hammett', 'Driscoll', 'Hoyt', 'David', 'Ivor', 'Thor', 'Avram', 'Aidan', 'Jerry', 'Marsden', 'Lucas', 'Reese', 'Jamal', 'Roth', 'Jarrod', 'Alec', 'Sean', 'Emery', 'Phillip', 'Alexander', 'Warren', 'Ulysses', 'Vladimir', 'Demetrius', 'Thomas', 'Derek', 'Joel', 'Kaseem', 'Connor', 'Amery', 'Hu', 'Dean', 'Kennedy', 'Nolan', 'George', 'Brady', 'Yasir', 'Ali', 'Ian', 'Xanthus'}\n"
     ]
    }
   ],
   "source": [
    "import json\n",
    "with open('data.json') as f:\n",
    "    temp = json.load(f)\n",
    "    data = temp['data']\n",
    "    cols = temp['cols']\n",
    "\n",
    "    names = {i[0] for i in data}\n",
    "    print(names)"
   ]
  },
  {
   "cell_type": "code",
   "execution_count": null,
   "metadata": {},
   "outputs": [],
   "source": [
    "states_list = {'AK': 'Alaska', 'CA': 'California'}"
   ]
  },
  {
   "attachments": {},
   "cell_type": "markdown",
   "metadata": {},
   "source": [
    "- Count the number of people in each state. There are several ways of doing this so I won't give any tips!"
   ]
  },
  {
   "cell_type": "code",
   "execution_count": 10,
   "metadata": {
    "collapsed": true
   },
   "outputs": [
    {
     "name": "stdout",
     "output_type": "stream",
     "text": [
      "{'Oklahoma': 0, 'IA': 0, 'Illinois': 0, 'UT': 0, 'TX': 0, 'Iowa': 0, 'OR': 0, 'Pennsylvania': 0, 'Utah': 0, 'WY': 0, 'NE': 0, 'MS': 0, 'Maryland': 0, 'MN': 0, 'Nebraska': 0, 'VA': 0, 'FL': 0, 'California': 0, 'Mississippi': 0, 'Montana': 0, 'HI': 0, 'ID': 0, 'Louisiana': 0, 'Nevada': 0, 'Massachusetts': 0, 'MT': 0, 'MO': 0, 'LA': 0, 'Minnesota': 0, 'MA': 0, 'VT': 0, 'MI': 0, 'Georgia': 0, 'CT': 0, 'KS': 0, 'Kentucky': 0, 'Vermont': 0, 'Washington': 0, 'IL': 0, 'AK': 0, 'PA': 0, 'Wyoming': 0, 'TN': 0, 'Texas': 0, 'AZ': 0, 'Ohio': 0, 'Michigan': 0, 'ME': 0, 'Wisconsin': 0, 'Hawaii': 0, 'Arkansas': 0, 'Colorado': 0, 'Oregon': 0, 'Maine': 0, 'Kansas': 0, 'AR': 0, 'CO': 0, 'WA': 0, 'GA': 0, 'Alaska': 0}\n",
      "{'Oklahoma': 1, 'IA': 1, 'Illinois': 1, 'UT': 1, 'TX': 3, 'Iowa': 2, 'OR': 2, 'Pennsylvania': 2, 'Utah': 2, 'WY': 1, 'NE': 1, 'MS': 2, 'Maryland': 1, 'MN': 1, 'Nebraska': 2, 'VA': 2, 'FL': 3, 'California': 1, 'Mississippi': 1, 'Montana': 2, 'HI': 1, 'ID': 1, 'Louisiana': 1, 'Nevada': 1, 'Massachusetts': 2, 'MT': 1, 'MO': 1, 'LA': 2, 'Minnesota': 4, 'MA': 3, 'VT': 1, 'MI': 2, 'Georgia': 2, 'CT': 1, 'KS': 3, 'Kentucky': 1, 'Vermont': 1, 'Washington': 1, 'IL': 6, 'AK': 1, 'PA': 1, 'Wyoming': 1, 'TN': 1, 'Texas': 2, 'AZ': 1, 'Ohio': 3, 'Michigan': 2, 'ME': 2, 'Wisconsin': 1, 'Hawaii': 3, 'Arkansas': 1, 'Colorado': 1, 'Oregon': 1, 'Maine': 1, 'Kansas': 2, 'AR': 2, 'CO': 2, 'WA': 2, 'GA': 1, 'Alaska': 2}\n"
     ]
    }
   ],
   "source": [
    "states = {i[4] for i in data}\n",
    "states_num = {state: 0 for state in states}\n",
    "print(states_num)\n",
    "for entry in data:\n",
    "    states_num[entry[4]] += 1\n",
    "print(states_num)"
   ]
  },
  {
   "attachments": {},
   "cell_type": "markdown",
   "metadata": {},
   "source": [
    "- Write a comprehension that will end up with a key of name and value of phone number. The result should be a dictionary."
   ]
  },
  {
   "cell_type": "code",
   "execution_count": 11,
   "metadata": {
    "collapsed": true
   },
   "outputs": [
    {
     "name": "stdout",
     "output_type": "stream",
     "text": [
      "{'Reed': '1-186-988-9663', 'Clark': '701-9509', 'Demetrius': '1-707-814-6484', 'Davis': '1-769-482-8286', 'Hammett': '1-718-960-0437', 'Ivor': '123-7017', 'Drew': '1-569-640-0785', 'Quentin': '121-5941', 'Giacomo': '228-3039', 'Avram': '261-1266', 'Neil': '903-5893', 'Jerry': '1-807-896-0508', 'Ulysses': '1-587-815-1654', 'Armando': '552-1617', 'Derek': '456-5056', 'Jamal': '961-4557', 'Vance': '1-661-742-0429', 'Galvin': '1-220-754-5143', 'Kenyon': '1-323-359-1986', 'James': '1-367-530-4094', 'Phillip': '1-540-873-0092', 'Brody': '295-4026', 'Emery': '1-312-628-6993', 'Jarrod': '100-1188', 'Nolan': '829-2667', 'Yoshio': '1-860-795-5519', 'Norman': '1-414-646-2244', 'Thomas': '386-9355', 'Burton': '537-4363', 'Clayton': '1-310-760-5764', 'Vladimir': '1-260-313-0585', 'Lionel': '1-138-741-7479', 'Dalton': '1-554-675-1599', 'Joseph': '526-5432', 'Hoyt': '383-4839', 'Tobias': '353-4286', 'Ferdinand': '1-393-182-6231', 'Driscoll': '1-686-258-4283', 'Bert': '315-6071', 'Noah': '898-6101', 'Keith': '1-382-215-8999', 'Drake': '1-384-930-7825', 'George': '1-755-579-5717', 'Christian': '279-2636', 'Connor': '1-853-856-0196', 'Dylan': '1-596-569-0803', 'Amery': '271-7596', 'Ralph': '1-194-996-7310', 'Harlan': '1-854-959-2526', 'Kennedy': '527-3998', 'Alec': '750-5753', 'Warren': '751-3918', 'Talon': '709-8727', 'Steven': '1-846-872-4914', 'Roth': '1-258-998-7158', 'Dillon': '921-1181', 'Aidan': '1-984-711-9462', 'Ian': '1-540-597-1825', 'Alexander': '827-5102', 'Logan': '1-274-570-4439', 'Hu': '291-5467', 'Benjamin': '1-149-920-6553', 'Lucas': '1-523-649-1350', 'Austin': '1-526-554-4190', 'Lester': '510-1730', 'Joshua': '1-829-779-4013', 'Cyrus': '224-1676', 'Philip': '828-3727', 'Dean': '1-251-143-2893', 'Arsenio': '1-118-744-0704', 'Macaulay': '1-502-585-1019', 'Marsden': '203-3348', 'Joel': '1-912-417-3765', 'Lane': '1-374-935-1437', 'Reese': '1-308-432-7528', 'Ali': '1-133-956-0980', 'Marshall': '1-754-686-8473', 'Beck': '1-322-605-5384', 'Sean': '692-2058', 'David': '1-967-307-7419', 'Brian': '621-4923', 'Thor': '760-7789', 'Carter': '474-8060', 'Brady': '1-210-344-3611', 'Kaseem': '873-6790', 'Devin': '500-2505', 'Xanthus': '939-9238', 'Yasir': '737-8338'}\n"
     ]
    }
   ],
   "source": [
    "phone_numbers = {entry[0]: entry[1] for entry in data}\n",
    "print(phone_numbers)"
   ]
  },
  {
   "attachments": {},
   "cell_type": "markdown",
   "metadata": {},
   "source": [
    "- Write a comprehension to find which letters of the alphabet (if any) are not used as the first letter in their names. Don't just list which ones we have, but which ones we are missing.\n",
    "\n",
    "Hint for this last one use:\n",
    "```python\n",
    "import string\n",
    "string.ascii_lowercase\n",
    "```"
   ]
  },
  {
   "cell_type": "code",
   "execution_count": 31,
   "metadata": {
    "collapsed": true
   },
   "outputs": [
    {
     "name": "stdout",
     "output_type": "stream",
     "text": [
      "{'v': 2, 'c': 6, 'u': 1, 'a': 9, 'd': 12, 'r': 4, 'w': 1, 's': 2, 'h': 4, 'k': 4, 'y': 2, 'n': 4, 'e': 1, 'o': 0, 'l': 5, 'z': 0, 'f': 1, 'i': 2, 'q': 1, 'j': 7, 'p': 2, 'g': 3, 'x': 1, 't': 4, 'b': 7, 'm': 3}\n"
     ]
    }
   ],
   "source": [
    "import string\n",
    "first_letters = [entry[0][0].lower() for entry in names]\n",
    "alphabet = {i for i in string.ascii_lowercase}\n",
    "letters = {letter: first_letters.count(letter) for letter in alphabet for entry in first_letters}\n",
    "print(letters)"
   ]
  },
  {
   "cell_type": "code",
   "execution_count": null,
   "metadata": {},
   "outputs": [],
   "source": []
  }
 ],
 "metadata": {
  "anaconda-cloud": {},
  "kernelspec": {
   "display_name": "Python 3",
   "language": "python",
   "name": "python3"
  },
  "language_info": {
   "codemirror_mode": {
    "name": "ipython",
    "version": 3
   },
   "file_extension": ".py",
   "mimetype": "text/x-python",
   "name": "python",
   "nbconvert_exporter": "python",
   "pygments_lexer": "ipython3",
   "version": "3.10.9"
  }
 },
 "nbformat": 4,
 "nbformat_minor": 1
}
